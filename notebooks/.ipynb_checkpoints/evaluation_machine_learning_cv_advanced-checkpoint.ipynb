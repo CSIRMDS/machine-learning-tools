{
 "cells": [
  {
   "cell_type": "code",
   "execution_count": null,
   "metadata": {
    "collapsed": true
   },
   "outputs": [],
   "source": [
    "import pandas as pd\n",
    "import numpy as np\n",
    "from sklearn import svm\n",
    "# SKLearn Stuff\n",
    "from sklearn import cross_validation\n",
    "from sklearn.naive_bayes import GaussianNB"
   ]
  },
  {
   "cell_type": "markdown",
   "metadata": {},
   "source": [
    "Load pylab for plotting"
   ]
  },
  {
   "cell_type": "code",
   "execution_count": null,
   "metadata": {
    "collapsed": false
   },
   "outputs": [],
   "source": [
    "%pylab inline"
   ]
  },
  {
   "cell_type": "code",
   "execution_count": null,
   "metadata": {
    "collapsed": true
   },
   "outputs": [],
   "source": [
    "df = pd.read_csv(\"../../data/blood_transfusion/transfusion.data\")"
   ]
  },
  {
   "cell_type": "code",
   "execution_count": null,
   "metadata": {
    "collapsed": false
   },
   "outputs": [],
   "source": [
    "df.describe()"
   ]
  },
  {
   "cell_type": "code",
   "execution_count": null,
   "metadata": {
    "collapsed": false
   },
   "outputs": [],
   "source": [
    "X = df.values[:,:4]\n",
    "Y = df.values[:,-1]"
   ]
  },
  {
   "cell_type": "code",
   "execution_count": null,
   "metadata": {
    "collapsed": false
   },
   "outputs": [],
   "source": [
    "# Cross validation setup\n",
    "num_repetition = 100\n",
    "train_range = range(10,201,10)\n",
    "test_res = np.zeros((len(train_range),num_repetition))\n",
    "train_res = np.zeros((len(train_range),num_repetition))\n",
    "\n",
    "\n",
    "row_count = 0\n",
    "for train_size in train_range:\n",
    "    col_count = 0\n",
    "    for rep in range(num_repetition):\n",
    "        X_train, X_test, y_train, y_test = cross_validation.train_test_split(X, Y, test_size=len(X)-train_size, \n",
    "                                                                             random_state=np.random.randint(1000000))\n",
    "        clf = GaussianNB()\n",
    "        clf.fit(X_train, y_train)\n",
    "        # Compuer classification accuracy of test set\n",
    "        test_score = clf.score(X, Y)\n",
    "        train_score = clf.score(X_train, y_train)\n",
    "        test_res[row_count,col_count] = test_score\n",
    "        train_res[row_count,col_count] = train_score\n",
    "        col_count+=1\n",
    "    row_count+=1"
   ]
  },
  {
   "cell_type": "code",
   "execution_count": null,
   "metadata": {
    "collapsed": false
   },
   "outputs": [],
   "source": [
    "figsize(16,9)\n",
    "y_res = np.mean(test_res,axis=1)\n",
    "\n",
    "pyplot.plot(train_range,y_res, label='training',linewidth=4)\n",
    "\n",
    "y_res = np.mean(train_res,axis=1)\n",
    "pyplot.plot(train_range,y_res,color='r', label='testing',linewidth=4)\n",
    "pyplot.grid()\n",
    "pyplot.legend()\n",
    "pyplot.xlabel('Training Size')\n",
    "pyplot.ylabel('Accuracy')"
   ]
  },
  {
   "cell_type": "code",
   "execution_count": null,
   "metadata": {
    "collapsed": false
   },
   "outputs": [],
   "source": [
    "def cross_validate_advanced(X,Y,clf, num_repetition = 100,train_range = range(40,201,10)):  \n",
    "    test_res = np.zeros((len(train_range),num_repetition))\n",
    "    train_res = np.zeros((len(train_range),num_repetition))\n",
    "    row_count = 0\n",
    "    for train_size in train_range:\n",
    "        print \"Starting %s samples\" % train_size\n",
    "        col_count = 0\n",
    "        for rep in range(num_repetition):\n",
    "            X_train, X_test, y_train, y_test = cross_validation.train_test_split(X, Y, test_size=len(X)-train_size, \n",
    "                                                                                 random_state=np.random.randint(1000000))\n",
    "#             clf = model_function()\n",
    "            clf.fit(X_train, y_train)\n",
    "            # Compuer classification accuracy of test set\n",
    "            test_score = clf.score(X, Y)\n",
    "            train_score = clf.score(X_train, y_train)\n",
    "            test_res[row_count,col_count] = test_score\n",
    "            train_res[row_count,col_count] = train_score\n",
    "            col_count+=1\n",
    "        row_count+=1\n",
    "    return test_res,train_res"
   ]
  },
  {
   "cell_type": "code",
   "execution_count": null,
   "metadata": {
    "collapsed": false
   },
   "outputs": [],
   "source": [
    "test_res_nb, train_res_nb = cross_validate_advanced(X,Y,GaussianNB())"
   ]
  },
  {
   "cell_type": "code",
   "execution_count": null,
   "metadata": {
    "collapsed": true
   },
   "outputs": [],
   "source": [
    "from sklearn.linear_model import SGDClassifier"
   ]
  },
  {
   "cell_type": "code",
   "execution_count": null,
   "metadata": {
    "collapsed": false
   },
   "outputs": [],
   "source": [
    "test_res_log, train_res_log = cross_validate_advanced(X,Y,SGDClassifier(loss=\"hinge\", penalty=\"l2\"))"
   ]
  },
  {
   "cell_type": "code",
   "execution_count": null,
   "metadata": {
    "collapsed": false
   },
   "outputs": [],
   "source": [
    "figsize(16,9)\n",
    "train_range = range(40,201,10)\n",
    "y_res = np.mean(test_res_nb,axis=1)\n",
    "pyplot.plot(train_range,y_res, label='training',linewidth=4)\n",
    "y_res = np.mean(train_res_nb,axis=1)\n",
    "pyplot.plot(train_range,y_res,color='r', label='testing',linewidth=4)\n",
    "\n",
    "y_res = np.mean(test_res_log,axis=1)\n",
    "pyplot.plot(train_range,y_res, label='training',color ='b',linewidth=4, linestyle ='--')\n",
    "y_res = np.mean(train_res_log, axis=1)\n",
    "pyplot.plot(train_range,y_res,color='r', label='testing',linewidth=4,linestyle ='--')\n",
    "pyplot.grid()\n",
    "pyplot.legend()\n",
    "pyplot.xlabel('Training Size')\n",
    "pyplot.ylabel('Accuracy')"
   ]
  },
  {
   "cell_type": "code",
   "execution_count": null,
   "metadata": {
    "collapsed": true
   },
   "outputs": [],
   "source": []
  }
 ],
 "metadata": {
  "kernelspec": {
   "display_name": "Python 2",
   "language": "python",
   "name": "python2"
  },
  "language_info": {
   "codemirror_mode": {
    "name": "ipython",
    "version": 2
   },
   "file_extension": ".py",
   "mimetype": "text/x-python",
   "name": "python",
   "nbconvert_exporter": "python",
   "pygments_lexer": "ipython2",
   "version": "2.7.10"
  }
 },
 "nbformat": 4,
 "nbformat_minor": 0
}
